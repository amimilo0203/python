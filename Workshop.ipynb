{
  "nbformat": 4,
  "nbformat_minor": 0,
  "metadata": {
    "colab": {
      "provenance": [],
      "toc_visible": true,
      "include_colab_link": true
    },
    "kernelspec": {
      "name": "python3",
      "display_name": "Python 3"
    },
    "language_info": {
      "name": "python"
    }
  },
  "cells": [
    {
      "cell_type": "markdown",
      "metadata": {
        "id": "view-in-github",
        "colab_type": "text"
      },
      "source": [
        "<a href=\"https://colab.research.google.com/github/amimilo0203/python/blob/main/Workshop.ipynb\" target=\"_parent\"><img src=\"https://colab.research.google.com/assets/colab-badge.svg\" alt=\"Open In Colab\"/></a>"
      ]
    },
    {
      "cell_type": "markdown",
      "source": [
        "# Erste Schritte"
      ],
      "metadata": {
        "id": "WGS6mz6olEsC"
      }
    },
    {
      "cell_type": "markdown",
      "source": [
        "**Aufgabe:** Gebe Hello World auf der Konsole aus."
      ],
      "metadata": {
        "id": "WftZ9bnOkmLh"
      }
    },
    {
      "cell_type": "code",
      "execution_count": 1,
      "metadata": {
        "id": "xp0ZlIItby7t",
        "colab": {
          "base_uri": "https://localhost:8080/"
        },
        "outputId": "cdd9a213-a4e7-44cd-c509-cad52bf40e16"
      },
      "outputs": [
        {
          "output_type": "stream",
          "name": "stdout",
          "text": [
            "Hello World\n"
          ]
        }
      ],
      "source": [
        "\n",
        "print('Hello World')\n"
      ]
    },
    {
      "cell_type": "markdown",
      "source": [
        "# Variable und Operatoren"
      ],
      "metadata": {
        "id": "LcZ1wd0blp6E"
      }
    },
    {
      "cell_type": "markdown",
      "source": [
        "**Aufgabe 1:** Schreibe ein kleines Programm, das zwei Zahlen speichert und folgende Rechenoperationen durchführt:\n",
        "*   Addition\n",
        "*   Subtraktion\n",
        "*   Multiplikation\n",
        "*   Division"
      ],
      "metadata": {
        "id": "rekWTyaolzCk"
      }
    },
    {
      "cell_type": "code",
      "source": [
        "#methods\n",
        "def add(a, b):\n",
        "    return a + b\n",
        "\n",
        "def subtract(a, b):\n",
        "    return a - b\n",
        "\n",
        "def multiply(a, b):\n",
        "    return a * b\n",
        "\n",
        "def divide(a, b):\n",
        "    if b == 0:\n",
        "        return \"Fehler: division durch 0\"\n",
        "    return a / b\n",
        "#map operations\n",
        "operations = {\n",
        "    '+': add,\n",
        "    'add': add,\n",
        "    'plus': add,\n",
        "    '-': subtract,\n",
        "    'subtract': subtract,\n",
        "    'minus': subtract,\n",
        "    '*': multiply,\n",
        "    'multiply': multiply,\n",
        "    'times': multiply,\n",
        "    '/': divide,\n",
        "    'divide': divide\n",
        "}\n",
        "print('zahl 1 eingeben: ')\n",
        "zahl1 = float(input())\n",
        "\n",
        "print('zahl 2 eingeben: ')\n",
        "zahl2 = float(input())\n",
        "\n",
        "print('Operationen eingeben (+, -, *, / oder deren namen(englisch)): ')\n",
        "operation = input().strip().lower()\n",
        "\n",
        "if operation in operations:\n",
        "    result = operations[operation](zahl1, zahl2)\n",
        "    print(f'Ergebniss: {result}')\n",
        "else:\n",
        "    print('Ungueltiger operator. Bitte verwende: +, -, *, / oder deren namen(englisch)')\n"
      ],
      "metadata": {
        "id": "h3teN7LxmSkv",
        "colab": {
          "base_uri": "https://localhost:8080/"
        },
        "outputId": "d919afbe-527a-4c3e-da95-13d4ba6c7e31"
      },
      "execution_count": 2,
      "outputs": [
        {
          "output_type": "stream",
          "name": "stdout",
          "text": [
            "Enter first number: \n",
            "1\n",
            "Enter second number: \n",
            "4\n",
            "Enter operation (+, -, *, / or their names): \n",
            "add\n",
            "Result: 5.0\n"
          ]
        }
      ]
    },
    {
      "cell_type": "markdown",
      "source": [
        "**Aufgabe 2:** Schreibe ein kleines Programm, das deinen Namen und dein alter speichert und eine Ausgabe tätigt.\n",
        "Beispielhafte Ausgabe:\n",
        "\n",
        "> \"Hallo, mein Name ist Yann. Ich bin 20 Jahre alt.\"\n",
        "\n"
      ],
      "metadata": {
        "id": "c0BlpZLuxjPD"
      }
    },
    {
      "cell_type": "code",
      "source": [
        "\n",
        "print('name eingeben: ')\n",
        "name = input()\n",
        "print('alter eingeben: ')\n",
        "age = input()\n",
        "print(f'Halle, mein Name ist {name}. Ich bin {age} Jahre alt')"
      ],
      "metadata": {
        "id": "TEgFWRPAymYT"
      },
      "execution_count": null,
      "outputs": []
    },
    {
      "cell_type": "markdown",
      "source": [
        "# Kontrollstrukturen"
      ],
      "metadata": {
        "id": "OOJpLVn-16SA"
      }
    },
    {
      "cell_type": "markdown",
      "source": [
        "**Aufgabe 1:** Schreibe ein Programm, das je nach Wetter eine passende Empfehlung ausgibt. Nutze dafür eine if/else-Struktur. Beispiele:\n",
        "\n",
        "Wenn es regnet: \"Nimm einen Regenschirm mit!\"\n",
        "\n",
        "Wenn die Sonne scheint: \"Zieh eine Sonnenbrille an!\"\n",
        "\n",
        "Sonst: \"Zieh dich normal an.\""
      ],
      "metadata": {
        "id": "rVWu3WdU2I6z"
      }
    },
    {
      "cell_type": "code",
      "source": [
        "\n",
        "print('wetter eingeben: ')\n",
        "weather = input().strip().lower()\n",
        "flag = 0\n",
        "\n",
        "if weather == 'regen':\n",
        "  print('Nimm einen Regenschirm mit!')\n",
        "  flag = 1\n",
        "elif weather == 'sonne scheint':\n",
        "  print('Zieh eine Sonnenbrille an!')\n",
        "  flag = 1\n",
        "if flag == 0:\n",
        "  print('Zieh dich normal an.')\n",
        "\n",
        "\n"
      ],
      "metadata": {
        "id": "FlM9IqI_2RDh",
        "colab": {
          "base_uri": "https://localhost:8080/"
        },
        "outputId": "fade06cb-5099-4a0e-8bc2-d703efb72b65"
      },
      "execution_count": 12,
      "outputs": [
        {
          "output_type": "stream",
          "name": "stdout",
          "text": [
            "wetter eingeben: \n",
            "SoNNE ScHeINt\n",
            "Zieh eine Sonnenbrille an!\n"
          ]
        }
      ]
    },
    {
      "cell_type": "markdown",
      "source": [
        "**Aufgabe 2:** Erstelle zwei Variablen alterMarie und alterMax und weise ihnen beliebige positive Werte zu.​​\n",
        "\n",
        "Prüfe, ob Marie und Max gleich alt sind. Wenn dies zutrifft, soll „gleich alt“ in der Konsole ausgegeben werden.​​\n",
        "\n",
        "Füge weitere Bedingungen hinzu, um zu prüfen, welcher der beiden nun älter ist. Ist Marie älter, so wird „Marie ist älter“ ausgegeben, ansonsten „Max ist älter“."
      ],
      "metadata": {
        "id": "mMFp2xAx2p7B"
      }
    },
    {
      "cell_type": "code",
      "source": [
        "print('alter von Marie eingeben: ')\n",
        "ageMarie = input()\n",
        "print('alter von Max eingeben: ')\n",
        "ageMax = input()\n",
        "\n",
        "if ageMarie == ageMax:\n",
        "  print('gleich alt')\n",
        "elif ageMax < ageMarie:\n",
        "  print('Max ist älter')\n",
        "elif ageMax > ageMarie:\n",
        "  print('Marie ist älter')"
      ],
      "metadata": {
        "id": "j7TaDn7snMWY"
      },
      "execution_count": null,
      "outputs": []
    },
    {
      "cell_type": "markdown",
      "source": [
        "# Funktionen und Schleifen"
      ],
      "metadata": {
        "id": "o8RPAcDjnRVN"
      }
    },
    {
      "cell_type": "markdown",
      "source": [
        "**Aufgabe Funktionen:** Erstelle eine Methode pruefeAlter, die eine Zahl alter als Parameter entgegen nimmt. Prüfe, ob dieser Parameter größer gleich 18 ist. Trifft dies zu, so soll in der Konsole „reinlassen“ ausgegeben werden. Im anderen Fall soll „wegschicken“ in der Konsole erscheinen.​​\n",
        "\n",
        "Rufe die Methode pruefeAlter in deiner Hauptmethode einmal mit dem Wert 22 und mit dem Wert 14 auf. Nach dem ersten Aufruf sollte „reinlassen“ und nach dem zweiten Aufruf „wegschicken“ angezeigt werden. Dann hast du alles richtig gemacht."
      ],
      "metadata": {
        "id": "PwZpOPZvncNi"
      }
    },
    {
      "cell_type": "code",
      "source": [
        "def pruefeAlter(age):\n",
        "  if age >= 18:\n",
        "    return True\n",
        "  return False\n",
        "\n",
        "print('alter eingeben: ')\n",
        "ageinput = input()\n",
        "flag = pruefeAlter(ageinput)\n",
        "if flag == True:\n",
        "  print('reinlassen')\n",
        "if flag == False:\n",
        "  print('wegschicken')\n",
        "\n",
        "\n",
        "\n"
      ],
      "metadata": {
        "id": "70FOJ1Crnja4"
      },
      "execution_count": null,
      "outputs": []
    },
    {
      "cell_type": "markdown",
      "source": [
        "**Aufgabe Schleifen:** Programmiere einen Raketen-Countdown, der von 10 auf 0 herunterzählt und dann die Rakete starten lässt​"
      ],
      "metadata": {
        "id": "zgkUMezSnjxU"
      }
    },
    {
      "cell_type": "code",
      "source": [
        "\n",
        "for i in range(0,10):\n",
        "  print(f'Noch {10-i} Sekunden')\n",
        "print('Rakete stratet')\n"
      ],
      "metadata": {
        "id": "cLJZTcfZnrVS",
        "colab": {
          "base_uri": "https://localhost:8080/"
        },
        "outputId": "c95a8784-d15e-45b6-c581-eb38b028ab65"
      },
      "execution_count": 15,
      "outputs": [
        {
          "output_type": "stream",
          "name": "stdout",
          "text": [
            "Noch 10 Sekunden\n",
            "Noch 9 Sekunden\n",
            "Noch 8 Sekunden\n",
            "Noch 7 Sekunden\n",
            "Noch 6 Sekunden\n",
            "Noch 5 Sekunden\n",
            "Noch 4 Sekunden\n",
            "Noch 3 Sekunden\n",
            "Noch 2 Sekunden\n",
            "Noch 1 Sekunden\n",
            "Rakete stratet\n"
          ]
        }
      ]
    },
    {
      "cell_type": "markdown",
      "source": [
        "# Abschlussaufgabe"
      ],
      "metadata": {
        "id": "IkwLgQgDnsFl"
      }
    },
    {
      "cell_type": "code",
      "source": [
        "import random\n",
        "\n",
        "#Methode die eine random Zahl zwischen 1 und 20 zurückgibt\n",
        "def getRandomNumber():\n",
        "  randomInt = random.randint(1, 20)\n",
        "  return randomInt\n",
        "\n",
        "#So können eingaben über die Konsole verwendet werden\n",
        "print(\"Gebe deinen Namen ein:\")\n",
        "x = input()\n",
        "print(\"Hallo, \" + x)"
      ],
      "metadata": {
        "id": "Iyy5oPMQnzCb",
        "colab": {
          "base_uri": "https://localhost:8080/"
        },
        "outputId": "f96c5cc1-c3e0-443c-f60c-e38bd17598a6"
      },
      "execution_count": 16,
      "outputs": [
        {
          "output_type": "stream",
          "name": "stdout",
          "text": [
            "Gebe deinen Namen ein:\n",
            "Arne\n",
            "Hallo, Arne\n"
          ]
        }
      ]
    }
  ]
}